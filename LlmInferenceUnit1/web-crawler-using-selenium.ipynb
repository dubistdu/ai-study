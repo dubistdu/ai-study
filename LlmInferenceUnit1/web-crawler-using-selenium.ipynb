{
 "cells": [
  {
   "cell_type": "code",
   "execution_count": 1,
   "id": "45535113-f605-47c3-85f7-a7da777c86a5",
   "metadata": {},
   "outputs": [
    {
     "name": "stdout",
     "output_type": "stream",
     "text": [
      "Collecting webdriver-manager\n",
      "  Downloading webdriver_manager-4.0.2-py2.py3-none-any.whl.metadata (12 kB)\n",
      "Requirement already satisfied: requests in ./myenv/lib/python3.13/site-packages (from webdriver-manager) (2.32.3)\n",
      "Collecting python-dotenv (from webdriver-manager)\n",
      "  Downloading python_dotenv-1.1.0-py3-none-any.whl.metadata (24 kB)\n",
      "Requirement already satisfied: packaging in ./myenv/lib/python3.13/site-packages (from webdriver-manager) (24.2)\n",
      "Requirement already satisfied: charset-normalizer<4,>=2 in ./myenv/lib/python3.13/site-packages (from requests->webdriver-manager) (3.4.1)\n",
      "Requirement already satisfied: idna<4,>=2.5 in ./myenv/lib/python3.13/site-packages (from requests->webdriver-manager) (3.10)\n",
      "Requirement already satisfied: urllib3<3,>=1.21.1 in ./myenv/lib/python3.13/site-packages (from requests->webdriver-manager) (2.3.0)\n",
      "Requirement already satisfied: certifi>=2017.4.17 in ./myenv/lib/python3.13/site-packages (from requests->webdriver-manager) (2025.1.31)\n",
      "Downloading webdriver_manager-4.0.2-py2.py3-none-any.whl (27 kB)\n",
      "Downloading python_dotenv-1.1.0-py3-none-any.whl (20 kB)\n",
      "Installing collected packages: python-dotenv, webdriver-manager\n",
      "Successfully installed python-dotenv-1.1.0 webdriver-manager-4.0.2\n"
     ]
    }
   ],
   "source": [
    "!pip install webdriver-manager"
   ]
  },
  {
   "cell_type": "code",
   "execution_count": 3,
   "id": "6e03f817-195b-4b8a-b1ea-ac9f9a6576a4",
   "metadata": {},
   "outputs": [
    {
     "name": "stderr",
     "output_type": "stream",
     "text": [
      "[nltk_data] Downloading package punkt to\n",
      "[nltk_data]     /Users/jasmine.frantz/nltk_data...\n",
      "[nltk_data]   Package punkt is already up-to-date!\n"
     ]
    },
    {
     "name": "stdout",
     "output_type": "stream",
     "text": [
      "🔍 Interactive Web Crawler + Text Generator\n"
     ]
    },
    {
     "name": "stdin",
     "output_type": "stream",
     "text": [
      "Enter the URL to scrape:  https://www.xe.com/currencycharts/?from=ALL&to=JPY\n",
      "Enter the HTML tag to search for (e.g., 'div', 'span'):  p\n",
      "Enter the class name of the element (or leave blank):  sc-b39d611a-0 hjhFZZ\n"
     ]
    },
    {
     "name": "stdout",
     "output_type": "stream",
     "text": [
      "❌ Could not find an element with the specified tag and class.\n"
     ]
    }
   ],
   "source": [
    "# -----------------------------------------------------------------------------\n",
    "# Interactive Web Crawler & Retrieval-Augmented Generation (RAG) Exercise (Selenium Version)\n",
    "# -----------------------------------------------------------------------------\n",
    "\n",
    "from selenium import webdriver\n",
    "from selenium.webdriver.chrome.service import Service\n",
    "from selenium.webdriver.chrome.options import Options\n",
    "from selenium.webdriver.common.by import By\n",
    "from webdriver_manager.chrome import ChromeDriverManager\n",
    "\n",
    "from transformers import pipeline\n",
    "import nltk\n",
    "import time\n",
    "\n",
    "# Download tokenizer\n",
    "nltk.download('punkt')\n",
    "\n",
    "def setup_driver():\n",
    "    chrome_options = Options()\n",
    "    chrome_options.add_argument(\"--headless\")  # Remove this if you want to see the browser\n",
    "    chrome_options.add_argument(\"--no-sandbox\")\n",
    "    chrome_options.add_argument(\"--disable-dev-shm-usage\")\n",
    "    \n",
    "    # Automatically downloads the correct version of chromedriver\n",
    "    driver = webdriver.Chrome(service=Service(ChromeDriverManager().install()), options=chrome_options)\n",
    "    return driver\n",
    "    \n",
    "def extract_element_text(driver, tag, class_name):\n",
    "    \"\"\"\n",
    "    Extract the text of an element with the given tag and class using Selenium.\n",
    "\n",
    "    Parameters:\n",
    "        driver (webdriver): The Selenium WebDriver instance.\n",
    "        tag (str): The HTML tag to look for (e.g., \"span\", \"div\").\n",
    "        class_name (str): The class name to match.\n",
    "\n",
    "    Returns:\n",
    "        str or None: Extracted text content if found, otherwise None.\n",
    "    \"\"\"\n",
    "    try:\n",
    "        if class_name:\n",
    "            element = driver.find_element(By.CSS_SELECTOR, f\"{tag}.{class_name}\")\n",
    "        else:\n",
    "            element = driver.find_element(By.TAG_NAME, tag)\n",
    "        return element.text.strip()\n",
    "    except NoSuchElementException:\n",
    "        return None\n",
    "\n",
    "def generate_text_with_model(input_text, model_name=\"gpt2\", max_new_tokens=20):\n",
    "    \"\"\"Generate text using a pre-trained model.\"\"\"\n",
    "    generator = pipeline('text-generation', model=model_name)\n",
    "    generated = generator(input_text, max_new_tokens=max_new_tokens, num_return_sequences=1)\n",
    "    return generated[0]['generated_text']\n",
    "\n",
    "def interactive_exercise():\n",
    "    \"\"\"Main interactive routine.\"\"\"\n",
    "    print(\"🔍 Interactive Web Crawler + Text Generator\")\n",
    "\n",
    "    # Step 1: URL Input\n",
    "    url = input(\"Enter the URL to scrape: \").strip()\n",
    "\n",
    "    # Start WebDriver\n",
    "    driver = setup_driver()\n",
    "    driver.get(url)\n",
    "\n",
    "    # Optional: wait for JS-rendered content to load\n",
    "    time.sleep(3)\n",
    "\n",
    "    # Step 2: Tag and Class Input\n",
    "    tag = input(\"Enter the HTML tag to search for (e.g., 'div', 'span'): \").strip()\n",
    "    class_name = input(\"Enter the class name of the element (or leave blank): \").strip()\n",
    "    class_name = class_name if class_name else None\n",
    "\n",
    "    # Step 3: Extract Element Text\n",
    "    extracted_text = extract_element_text(driver, tag, class_name)\n",
    "    if extracted_text:\n",
    "        print(f\"\\n✅ Extracted Text: {extracted_text}\")\n",
    "    else:\n",
    "        print(\"❌ Could not find an element with the specified tag and class.\")\n",
    "        driver.quit()\n",
    "        return\n",
    "\n",
    "    # Step 4: Use the Extracted Text with a Language Model\n",
    "    use_generation = input(\"Would you like to generate additional text? (yes/no): \").strip().lower()\n",
    "    if use_generation == \"yes\":\n",
    "        prompt = f\"The extracted information is: '{extracted_text}'. Further details: \"\n",
    "        generated_text = generate_text_with_model(prompt)\n",
    "        print(\"\\n🤖 Generated Text:\")\n",
    "        print(generated_text)\n",
    "    else:\n",
    "        print(\"👍 Exiting without generating text.\")\n",
    "\n",
    "    driver.quit()\n",
    "\n",
    "# Run if this script is executed directly\n",
    "if __name__ == \"__main__\":\n",
    "    interactive_exercise()\n"
   ]
  },
  {
   "cell_type": "code",
   "execution_count": null,
   "id": "7b1e5910-3393-4d42-b581-372b47127934",
   "metadata": {},
   "outputs": [],
   "source": []
  },
  {
   "cell_type": "code",
   "execution_count": null,
   "id": "820b6e9a-4202-4dc0-a9f2-7112cfc252a0",
   "metadata": {},
   "outputs": [],
   "source": []
  }
 ],
 "metadata": {
  "kernelspec": {
   "display_name": "myenv",
   "language": "python",
   "name": "myenv"
  },
  "language_info": {
   "codemirror_mode": {
    "name": "ipython",
    "version": 3
   },
   "file_extension": ".py",
   "mimetype": "text/x-python",
   "name": "python",
   "nbconvert_exporter": "python",
   "pygments_lexer": "ipython3",
   "version": "3.13.2"
  }
 },
 "nbformat": 4,
 "nbformat_minor": 5
}
