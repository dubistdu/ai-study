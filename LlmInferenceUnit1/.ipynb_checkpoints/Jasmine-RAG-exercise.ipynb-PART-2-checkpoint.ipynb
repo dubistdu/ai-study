{
 "cells": [
  {
   "cell_type": "code",
   "execution_count": 15,
   "metadata": {
    "scrolled": true
   },
   "outputs": [
    {
     "name": "stdout",
     "output_type": "stream",
     "text": [
      "Requirement already satisfied: rank_bm25 in ./myenv/lib/python3.13/site-packages (0.2.2)\n",
      "Requirement already satisfied: scikit-learn in ./myenv/lib/python3.13/site-packages (1.6.1)\n",
      "Requirement already satisfied: nltk in ./myenv/lib/python3.13/site-packages (3.9.1)\n",
      "Requirement already satisfied: numpy in ./myenv/lib/python3.13/site-packages (from rank_bm25) (2.2.4)\n",
      "Requirement already satisfied: scipy>=1.6.0 in ./myenv/lib/python3.13/site-packages (from scikit-learn) (1.15.2)\n",
      "Requirement already satisfied: joblib>=1.2.0 in ./myenv/lib/python3.13/site-packages (from scikit-learn) (1.4.2)\n",
      "Requirement already satisfied: threadpoolctl>=3.1.0 in ./myenv/lib/python3.13/site-packages (from scikit-learn) (3.6.0)\n",
      "Requirement already satisfied: click in ./myenv/lib/python3.13/site-packages (from nltk) (8.1.8)\n",
      "Requirement already satisfied: regex>=2021.8.3 in ./myenv/lib/python3.13/site-packages (from nltk) (2024.11.6)\n",
      "Requirement already satisfied: tqdm in ./myenv/lib/python3.13/site-packages (from nltk) (4.67.1)\n"
     ]
    }
   ],
   "source": [
    "# Install necessary libraries (run these commands in a Colab cell)\n",
    "!pip install rank_bm25 scikit-learn nltk\n"
   ]
  },
  {
   "cell_type": "code",
   "execution_count": 23,
   "metadata": {
    "vscode": {
     "languageId": "plaintext"
    }
   },
   "outputs": [
    {
     "name": "stderr",
     "output_type": "stream",
     "text": [
      "[nltk_data] Downloading package punkt_tab to\n",
      "[nltk_data]     /Users/jasmine.frantz/nltk_data...\n",
      "[nltk_data]   Package punkt_tab is already up-to-date!\n"
     ]
    },
    {
     "name": "stdout",
     "output_type": "stream",
     "text": [
      "Explore Tokenization\n",
      "\n",
      "Original Sentence: Hello you are my sunshine\n",
      "Tokens (without lowercasing): ['Hello', 'you', 'are', 'my', 'sunshine']\n",
      "Token (with loweringcainsg): ['hello', 'you', 'are', 'my', 'sunshine']\n"
     ]
    },
    {
     "name": "stdin",
     "output_type": "stream",
     "text": [
      "\n",
      "Enter a sentence to tokenize:  All I wanna say is blah blah\n"
     ]
    },
    {
     "name": "stdout",
     "output_type": "stream",
     "text": [
      "Token (user input token): ['all', 'i', 'wan', 'na', 'say', 'is', 'blah', 'blah']\n"
     ]
    }
   ],
   "source": [
    "# Import the Natural Language Toolkit (NLTK) library,\n",
    "import nltk\n",
    "from nltk.tokenize import word_tokenize\n",
    "from IPython.display import display\n",
    "\n",
    "# Download additional NLTK tokenizer data called 'punkt_tab'.\n",
    "# 'punkt_tab' is used to fix specific tokenization errors that may occur with the default 'punkt' models.\n",
    "# This ensures our tokenization is as accurate as possible.\n",
    "nltk.download('punkt_tab')\n",
    "\n",
    "def exercise1_tokenization():\n",
    "  print(\"Explore Tokenization\")\n",
    "  sentence = \"Hello you are my sunshine\"\n",
    "  print(\"\\nOriginal Sentence:\", sentence)\n",
    "    \n",
    "  tokens = word_tokenize(sentence)\n",
    "  print(\"Tokens (without lowercasing):\", tokens)\n",
    "  sentence_lower = sentence.lower()\n",
    "  token_lower = word_tokenize(sentence_lower)\n",
    "  print(\"Token (with loweringcainsg):\", token_lower)\n",
    "\n",
    "  user_sentence = input(\"\\nEnter a sentence to tokenize: \")\n",
    "  user_tokens = word_tokenize(user_sentence.lower())\n",
    "  print(\"Token (user input token):\", user_tokens)\n",
    "\n",
    "exercise1_tokenization()"
   ]
  },
  {
   "cell_type": "code",
   "execution_count": null,
   "metadata": {},
   "outputs": [
    {
     "name": "stderr",
     "output_type": "stream",
     "text": [
      "[nltk_data] Downloading package punkt_tab to\n",
      "[nltk_data]     /Users/jasmine.frantz/nltk_data...\n",
      "[nltk_data]   Package punkt_tab is already up-to-date!\n"
     ]
    },
    {
     "name": "stdout",
     "output_type": "stream",
     "text": [
      "Exercise 2: BM25 Retrieval Exploration\n",
      "Document Body\n",
      " 1. The quick brown fox jumps over the lazy dog.\n",
      " 2. Never jump over the lazy dog quickly.\n",
      " 3. A quick movement of the enemy will jeopardize six gunboats.\n",
      " 4. All questions asked by five watched experts amaze the judge.\n",
      " 5. The five boxing wizards jump quickly.\n"
     ]
    },
    {
     "name": "stdin",
     "output_type": "stream",
     "text": [
      "\n",
      "Enter a query for BM25 retrieval (or type 'exit' to quit):  1. The quick brown fox jumps over the lazy dog.  2. Never jump over the lazy dog quickly.  3. A quick movement of the enemy will jeopardize six gunboats.  4. All questions asked by five watched experts amaze the judge.  5. The five boxing wizards jump quickly.\n"
     ]
    },
    {
     "name": "stdout",
     "output_type": "stream",
     "text": [
      "\n",
      "BM25 Scores for your query:\n",
      "Score: 8.14 | Document: The quick brown fox jumps over the lazy dog.\n",
      "Score: 6.85 | Document: Never jump over the lazy dog quickly.\n",
      "Score: 10.58 | Document: A quick movement of the enemy will jeopardize six gunboats.\n",
      "Score: 10.58 | Document: All questions asked by five watched experts amaze the judge.\n",
      "Score: 6.94 | Document: The five boxing wizards jump quickly.\n"
     ]
    },
    {
     "name": "stdin",
     "output_type": "stream",
     "text": [
      "\n",
      "Enter a query for BM25 retrieval (or type 'exit' to quit):  Bye bye bye love,bye bye happiness.\n"
     ]
    },
    {
     "name": "stdout",
     "output_type": "stream",
     "text": [
      "\n",
      "BM25 Scores for your query:\n",
      "Score: 0.17 | Document: The quick brown fox jumps over the lazy dog.\n",
      "Score: 0.19 | Document: Never jump over the lazy dog quickly.\n",
      "Score: 0.16 | Document: A quick movement of the enemy will jeopardize six gunboats.\n",
      "Score: 0.16 | Document: All questions asked by five watched experts amaze the judge.\n",
      "Score: 0.20 | Document: The five boxing wizards jump quickly.\n"
     ]
    },
    {
     "name": "stdin",
     "output_type": "stream",
     "text": [
      "\n",
      "Enter a query for BM25 retrieval (or type 'exit' to quit):  \"Natogo, why are you here\"\n"
     ]
    },
    {
     "name": "stdout",
     "output_type": "stream",
     "text": [
      "\n",
      "BM25 Scores for your query:\n",
      "Score: 0.00 | Document: The quick brown fox jumps over the lazy dog.\n",
      "Score: 0.00 | Document: Never jump over the lazy dog quickly.\n",
      "Score: 0.00 | Document: A quick movement of the enemy will jeopardize six gunboats.\n",
      "Score: 0.00 | Document: All questions asked by five watched experts amaze the judge.\n",
      "Score: 0.00 | Document: The five boxing wizards jump quickly.\n"
     ]
    }
   ],
   "source": [
    "# Import the word_tokenize function from NLTK which is used to split text into individual words.\n",
    "from nltk.tokenize import word_tokenize\n",
    "# Import BM25Okapi from rank_bm25, which implements the BM25 ranking algorithm.\n",
    "# BM25 is a popular information retrieval model that scores documents based on query terms.\n",
    "from rank_bm25 import BM25Okapi\n",
    "# Import the nltk library itself, which is used for various natural language processing tasks.\n",
    "import nltk\n",
    "\n",
    "nltk.download('punkt_tab')\n",
    "\n",
    "documents = [\"The quick brown fox jumps over the lazy dog.\",\n",
    "    \"Never jump over the lazy dog quickly.\",\n",
    "    \"A quick movement of the enemy will jeopardize six gunboats.\",\n",
    "    \"All questions asked by five watched experts amaze the judge.\",\n",
    "    \"The five boxing wizards jump quickly.\"\n",
    "]\n",
    "\n",
    "tokenized_docs = [word_tokenize(doc.lower()) for doc in documents]\n",
    "\n",
    "# -----------------------------------------------\n",
    "# Initialize the BM25 Model\n",
    "# -----------------------------------------------\n",
    "# BM25Okapi is initialized with the preprocessed (tokenized) documents.\n",
    "# BM25 will use these tokens to compute relevance scores for each document given a query.\n",
    "bm25 = BM25Okapi(tokenized_docs)\n",
    "\n",
    "def exercise2_bm25():\n",
    "     print(\"Exercise 2: BM25 Retrieval Exploration\")\n",
    "     print(\"Document Body\")\n",
    "     for i, doc in enumerate(documents):\n",
    "         print(f\" {i+1}. {doc}\")\n",
    "     while True:\n",
    "         query = input(\"\\nEnter a query for BM25 retrieval (or type 'exit' to quit): \")\n",
    "         if query.lower() == \"exit\":\n",
    "             break\n",
    "\n",
    "         tokenized_query = word_tokenize(query.lower())\n",
    "\n",
    "         scores = bm25.get_scores(tokenized_query)\n",
    "\n",
    "         print(\"\\nBM25 Scores for your query:\")\n",
    "         for doc, score in zip(documents, scores):\n",
    "             print(f\"Score: {score:.2f} | Document: {doc}\")\n",
    "\n",
    "# The following block checks if this script is being run directly.\n",
    "# This ensures that the exercise runs only when the file is executed as a standalone program.\n",
    "if __name__ == \"__main__\":\n",
    "    exercise2_bm25()"
   ]
  },
  {
   "cell_type": "code",
   "execution_count": null,
   "metadata": {},
   "outputs": [],
   "source": []
  },
  {
   "cell_type": "code",
   "execution_count": null,
   "metadata": {},
   "outputs": [],
   "source": []
  }
 ],
 "metadata": {
  "kernelspec": {
   "display_name": "myenv",
   "language": "python",
   "name": "myenv"
  },
  "language_info": {
   "codemirror_mode": {
    "name": "ipython",
    "version": 3
   },
   "file_extension": ".py",
   "mimetype": "text/x-python",
   "name": "python",
   "nbconvert_exporter": "python",
   "pygments_lexer": "ipython3",
   "version": "3.13.2"
  }
 },
 "nbformat": 4,
 "nbformat_minor": 4
}
