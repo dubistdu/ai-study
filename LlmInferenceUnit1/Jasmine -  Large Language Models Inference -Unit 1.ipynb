{
 "cells": [
  {
   "cell_type": "code",
   "execution_count": 1,
   "id": "fb99be09-66d3-4d60-9c1f-a990025487a8",
   "metadata": {},
   "outputs": [
    {
     "name": "stdout",
     "output_type": "stream",
     "text": [
      "/Users/jasmine.frantz/.local/pipx/venvs/notebook/bin/python\n"
     ]
    }
   ],
   "source": [
    "import sys\n",
    "print(sys.executable)"
   ]
  },
  {
   "cell_type": "code",
   "execution_count": 3,
   "id": "fb60c505-73e3-47f3-b813-655d2647bc8c",
   "metadata": {},
   "outputs": [
    {
     "name": "stdout",
     "output_type": "stream",
     "text": [
      "Requirement already satisfied: torch in ./myenv/lib/python3.13/site-packages (2.6.0)\n",
      "Requirement already satisfied: transformers in ./myenv/lib/python3.13/site-packages (4.49.0)\n",
      "Requirement already satisfied: filelock in ./myenv/lib/python3.13/site-packages (from torch) (3.18.0)\n",
      "Requirement already satisfied: typing-extensions>=4.10.0 in ./myenv/lib/python3.13/site-packages (from torch) (4.12.2)\n",
      "Requirement already satisfied: networkx in ./myenv/lib/python3.13/site-packages (from torch) (3.4.2)\n",
      "Requirement already satisfied: jinja2 in ./myenv/lib/python3.13/site-packages (from torch) (3.1.6)\n",
      "Requirement already satisfied: fsspec in ./myenv/lib/python3.13/site-packages (from torch) (2025.3.0)\n",
      "Requirement already satisfied: setuptools in ./myenv/lib/python3.13/site-packages (from torch) (77.0.3)\n",
      "Requirement already satisfied: sympy==1.13.1 in ./myenv/lib/python3.13/site-packages (from torch) (1.13.1)\n",
      "Requirement already satisfied: mpmath<1.4,>=1.1.0 in ./myenv/lib/python3.13/site-packages (from sympy==1.13.1->torch) (1.3.0)\n",
      "Requirement already satisfied: huggingface-hub<1.0,>=0.26.0 in ./myenv/lib/python3.13/site-packages (from transformers) (0.29.3)\n",
      "Requirement already satisfied: numpy>=1.17 in ./myenv/lib/python3.13/site-packages (from transformers) (2.2.4)\n",
      "Requirement already satisfied: packaging>=20.0 in ./myenv/lib/python3.13/site-packages (from transformers) (24.2)\n",
      "Requirement already satisfied: pyyaml>=5.1 in ./myenv/lib/python3.13/site-packages (from transformers) (6.0.2)\n",
      "Requirement already satisfied: regex!=2019.12.17 in ./myenv/lib/python3.13/site-packages (from transformers) (2024.11.6)\n",
      "Requirement already satisfied: requests in ./myenv/lib/python3.13/site-packages (from transformers) (2.32.3)\n",
      "Requirement already satisfied: tokenizers<0.22,>=0.21 in ./myenv/lib/python3.13/site-packages (from transformers) (0.21.1)\n",
      "Requirement already satisfied: safetensors>=0.4.1 in ./myenv/lib/python3.13/site-packages (from transformers) (0.5.3)\n",
      "Requirement already satisfied: tqdm>=4.27 in ./myenv/lib/python3.13/site-packages (from transformers) (4.67.1)\n",
      "Requirement already satisfied: MarkupSafe>=2.0 in ./myenv/lib/python3.13/site-packages (from jinja2->torch) (3.0.2)\n",
      "Requirement already satisfied: charset-normalizer<4,>=2 in ./myenv/lib/python3.13/site-packages (from requests->transformers) (3.4.1)\n",
      "Requirement already satisfied: idna<4,>=2.5 in ./myenv/lib/python3.13/site-packages (from requests->transformers) (3.10)\n",
      "Requirement already satisfied: urllib3<3,>=1.21.1 in ./myenv/lib/python3.13/site-packages (from requests->transformers) (2.3.0)\n",
      "Requirement already satisfied: certifi>=2017.4.17 in ./myenv/lib/python3.13/site-packages (from requests->transformers) (2025.1.31)\n"
     ]
    }
   ],
   "source": [
    "!pip install torch transformers"
   ]
  },
  {
   "cell_type": "code",
   "execution_count": 4,
   "id": "9b3f76b4-93a9-4cb9-88bd-30421988a1db",
   "metadata": {},
   "outputs": [
    {
     "name": "stdout",
     "output_type": "stream",
     "text": [
      "Python path: /Users/jasmine.frantz/.local/pipx/venvs/notebook/bin/python\n"
     ]
    }
   ],
   "source": [
    "import sys\n",
    "print(f\"Python path: {sys.executable}\")\n",
    "!{sys.executable} -m pip list | grep torch\n",
    "!{sys.executable} -m pip list | grep transformers\n"
   ]
  },
  {
   "cell_type": "code",
   "execution_count": 11,
   "id": "7c5cb18a-b652-4f27-8c3e-e205c7c73da3",
   "metadata": {},
   "outputs": [
    {
     "name": "stdout",
     "output_type": "stream",
     "text": [
      "Collecting torch\n",
      "  Using cached torch-2.6.0-cp313-none-macosx_11_0_arm64.whl.metadata (28 kB)\n",
      "Collecting transformers\n",
      "  Using cached transformers-4.49.0-py3-none-any.whl.metadata (44 kB)\n",
      "Collecting filelock (from torch)\n",
      "  Using cached filelock-3.18.0-py3-none-any.whl.metadata (2.9 kB)\n",
      "Requirement already satisfied: typing-extensions>=4.10.0 in /Users/jasmine.frantz/.local/pipx/venvs/notebook/lib/python3.13/site-packages (from torch) (4.12.2)\n",
      "Collecting networkx (from torch)\n",
      "  Using cached networkx-3.4.2-py3-none-any.whl.metadata (6.3 kB)\n",
      "Requirement already satisfied: jinja2 in /Users/jasmine.frantz/.local/pipx/venvs/notebook/lib/python3.13/site-packages (from torch) (3.1.6)\n",
      "Collecting fsspec (from torch)\n",
      "  Using cached fsspec-2025.3.0-py3-none-any.whl.metadata (11 kB)\n",
      "Requirement already satisfied: setuptools in /Users/jasmine.frantz/.local/pipx/venvs/notebook/lib/python3.13/site-packages (from torch) (75.9.1)\n",
      "Collecting sympy==1.13.1 (from torch)\n",
      "  Using cached sympy-1.13.1-py3-none-any.whl.metadata (12 kB)\n",
      "Collecting mpmath<1.4,>=1.1.0 (from sympy==1.13.1->torch)\n",
      "  Using cached mpmath-1.3.0-py3-none-any.whl.metadata (8.6 kB)\n",
      "Collecting huggingface-hub<1.0,>=0.26.0 (from transformers)\n",
      "  Using cached huggingface_hub-0.29.3-py3-none-any.whl.metadata (13 kB)\n",
      "Collecting numpy>=1.17 (from transformers)\n",
      "  Using cached numpy-2.2.4-cp313-cp313-macosx_14_0_arm64.whl.metadata (62 kB)\n",
      "Requirement already satisfied: packaging>=20.0 in /Users/jasmine.frantz/.local/pipx/venvs/notebook/lib/python3.13/site-packages (from transformers) (24.2)\n",
      "Requirement already satisfied: pyyaml>=5.1 in /Users/jasmine.frantz/.local/pipx/venvs/notebook/lib/python3.13/site-packages (from transformers) (6.0.2)\n",
      "Collecting regex!=2019.12.17 (from transformers)\n",
      "  Using cached regex-2024.11.6-cp313-cp313-macosx_11_0_arm64.whl.metadata (40 kB)\n",
      "Requirement already satisfied: requests in /Users/jasmine.frantz/.local/pipx/venvs/notebook/lib/python3.13/site-packages (from transformers) (2.32.3)\n",
      "Collecting tokenizers<0.22,>=0.21 (from transformers)\n",
      "  Using cached tokenizers-0.21.1-cp39-abi3-macosx_11_0_arm64.whl.metadata (6.8 kB)\n",
      "Collecting safetensors>=0.4.1 (from transformers)\n",
      "  Using cached safetensors-0.5.3-cp38-abi3-macosx_11_0_arm64.whl.metadata (3.8 kB)\n",
      "Collecting tqdm>=4.27 (from transformers)\n",
      "  Using cached tqdm-4.67.1-py3-none-any.whl.metadata (57 kB)\n",
      "Requirement already satisfied: MarkupSafe>=2.0 in /Users/jasmine.frantz/.local/pipx/venvs/notebook/lib/python3.13/site-packages (from jinja2->torch) (3.0.2)\n",
      "Requirement already satisfied: charset-normalizer<4,>=2 in /Users/jasmine.frantz/.local/pipx/venvs/notebook/lib/python3.13/site-packages (from requests->transformers) (3.4.1)\n",
      "Requirement already satisfied: idna<4,>=2.5 in /Users/jasmine.frantz/.local/pipx/venvs/notebook/lib/python3.13/site-packages (from requests->transformers) (3.10)\n",
      "Requirement already satisfied: urllib3<3,>=1.21.1 in /Users/jasmine.frantz/.local/pipx/venvs/notebook/lib/python3.13/site-packages (from requests->transformers) (2.3.0)\n",
      "Requirement already satisfied: certifi>=2017.4.17 in /Users/jasmine.frantz/.local/pipx/venvs/notebook/lib/python3.13/site-packages (from requests->transformers) (2025.1.31)\n",
      "Using cached torch-2.6.0-cp313-none-macosx_11_0_arm64.whl (66.5 MB)\n",
      "Using cached sympy-1.13.1-py3-none-any.whl (6.2 MB)\n",
      "Using cached transformers-4.49.0-py3-none-any.whl (10.0 MB)\n",
      "Using cached huggingface_hub-0.29.3-py3-none-any.whl (468 kB)\n",
      "Using cached fsspec-2025.3.0-py3-none-any.whl (193 kB)\n",
      "Using cached numpy-2.2.4-cp313-cp313-macosx_14_0_arm64.whl (5.1 MB)\n",
      "Using cached regex-2024.11.6-cp313-cp313-macosx_11_0_arm64.whl (284 kB)\n",
      "Using cached safetensors-0.5.3-cp38-abi3-macosx_11_0_arm64.whl (418 kB)\n",
      "Using cached tokenizers-0.21.1-cp39-abi3-macosx_11_0_arm64.whl (2.7 MB)\n",
      "Using cached tqdm-4.67.1-py3-none-any.whl (78 kB)\n",
      "Using cached filelock-3.18.0-py3-none-any.whl (16 kB)\n",
      "Using cached networkx-3.4.2-py3-none-any.whl (1.7 MB)\n",
      "Using cached mpmath-1.3.0-py3-none-any.whl (536 kB)\n",
      "Installing collected packages: mpmath, tqdm, sympy, safetensors, regex, numpy, networkx, fsspec, filelock, torch, huggingface-hub, tokenizers, transformers\n",
      "Successfully installed filelock-3.18.0 fsspec-2025.3.0 huggingface-hub-0.29.3 mpmath-1.3.0 networkx-3.4.2 numpy-2.2.4 regex-2024.11.6 safetensors-0.5.3 sympy-1.13.1 tokenizers-0.21.1 torch-2.6.0 tqdm-4.67.1 transformers-4.49.0\n"
     ]
    }
   ],
   "source": [
    "import sys\n",
    "!{sys.executable} -m pip install torch transformers\n"
   ]
  },
  {
   "cell_type": "code",
   "execution_count": 12,
   "id": "624a37d3-efd6-4e2d-9a73-cc48482b717e",
   "metadata": {},
   "outputs": [
    {
     "name": "stderr",
     "output_type": "stream",
     "text": [
      "/Users/jasmine.frantz/.local/pipx/venvs/notebook/lib/python3.13/site-packages/tqdm/auto.py:21: TqdmWarning: IProgress not found. Please update jupyter and ipywidgets. See https://ipywidgets.readthedocs.io/en/stable/user_install.html\n",
      "  from .autonotebook import tqdm as notebook_tqdm\n"
     ]
    },
    {
     "name": "stdout",
     "output_type": "stream",
     "text": [
      "The meaning of life is to be happy.\n",
      "I'm not sure if you're being sarcastic or not.\n",
      "I'm\n"
     ]
    }
   ],
   "source": [
    "# beforehand, install torch transformers pip install torch transformers\n",
    "import os\n",
    "import torch\n",
    "from transformers import AutoModelForCausalLM, AutoTokenizer\n",
    "\n",
    "# Disable tokenizers parallelism warning\n",
    "os.environ[\"TOKENIZERS_PARALLELISM\"] = \"false\"\n",
    "\n",
    "# Automatically detect the correct device (MPS for Apple Silicon)\n",
    "device = \"mps\" if torch.backends.mps.is_available() else \"cpu\"\n",
    "\n",
    "# Load model and tokenizer\n",
    "model_name = \"facebook/opt-350m\"  # Replace with your model\n",
    "tokenizer = AutoTokenizer.from_pretrained(model_name)\n",
    "model = AutoModelForCausalLM.from_pretrained(model_name).to(device)  # Move model to MPS\n",
    "\n",
    "# Prepare input text and move input_ids to the same device\n",
    "input_text = \"The meaning of life is\"\n",
    "inputs = tokenizer(input_text, return_tensors=\"pt\")  # Convert input text to tensor\n",
    "# inputs is not a tensor but a BatchEncoding object.\n",
    "# To extract the actual tensor, you need to do:\n",
    "input_ids = inputs[\"input_ids\"].to(device)  # Extract `input_ids` and move to MPS\n",
    "\n",
    "# Generate output\n",
    "with torch.no_grad():\n",
    "    output = model.generate(input_ids)\n",
    "\n",
    "# Decode and print output\n",
    "print(tokenizer.decode(output[0], skip_special_tokens=True))\n"
   ]
  },
  {
   "cell_type": "code",
   "execution_count": 13,
   "id": "c34ba60f-cfc2-4394-ab29-354cd13fc8de",
   "metadata": {},
   "outputs": [
    {
     "data": {
      "text/plain": [
       "tensor([[   2,  133, 3099,    9,  301,   16]], device='mps:0')"
      ]
     },
     "execution_count": 13,
     "metadata": {},
     "output_type": "execute_result"
    }
   ],
   "source": [
    "input_ids"
   ]
  },
  {
   "cell_type": "code",
   "execution_count": 14,
   "id": "58b5fc3f-2df9-40cb-a904-299b0b087d4e",
   "metadata": {},
   "outputs": [
    {
     "name": "stdout",
     "output_type": "stream",
     "text": [
      "{'input_ids': tensor([[   2,  133, 3099,    9,  301,   16]]), 'attention_mask': tensor([[1, 1, 1, 1, 1, 1]])}\n"
     ]
    }
   ],
   "source": [
    "inputs = tokenizer(\"The meaning of life is\", return_tensors=\"pt\")\n",
    "print(inputs)\n"
   ]
  },
  {
   "cell_type": "code",
   "execution_count": 15,
   "id": "98f3db78-e215-4c76-82f5-295449828888",
   "metadata": {},
   "outputs": [],
   "source": [
    "del model\n"
   ]
  },
  {
   "cell_type": "code",
   "execution_count": 16,
   "id": "8cd1591a-9dbf-4918-be3f-ca19202038e2",
   "metadata": {},
   "outputs": [
    {
     "name": "stdout",
     "output_type": "stream",
     "text": [
      "Requirement already satisfied: modal in ./myenv/lib/python3.13/site-packages (0.73.116)\n",
      "Requirement already satisfied: aiohttp in ./myenv/lib/python3.13/site-packages (from modal) (3.11.14)\n",
      "Requirement already satisfied: certifi in ./myenv/lib/python3.13/site-packages (from modal) (2025.1.31)\n",
      "Requirement already satisfied: click>=8.1.0 in ./myenv/lib/python3.13/site-packages (from modal) (8.1.8)\n",
      "Requirement already satisfied: fastapi in ./myenv/lib/python3.13/site-packages (from modal) (0.115.11)\n",
      "Requirement already satisfied: grpclib==0.4.7 in ./myenv/lib/python3.13/site-packages (from modal) (0.4.7)\n",
      "Requirement already satisfied: protobuf!=4.24.0,<6.0,>=3.19 in ./myenv/lib/python3.13/site-packages (from modal) (5.29.4)\n",
      "Requirement already satisfied: rich>=12.0.0 in ./myenv/lib/python3.13/site-packages (from modal) (13.9.4)\n",
      "Requirement already satisfied: synchronicity~=0.9.10 in ./myenv/lib/python3.13/site-packages (from modal) (0.9.11)\n",
      "Requirement already satisfied: toml in ./myenv/lib/python3.13/site-packages (from modal) (0.10.2)\n",
      "Requirement already satisfied: typer>=0.9 in ./myenv/lib/python3.13/site-packages (from modal) (0.15.2)\n",
      "Requirement already satisfied: types-certifi in ./myenv/lib/python3.13/site-packages (from modal) (2021.10.8.3)\n",
      "Requirement already satisfied: types-toml in ./myenv/lib/python3.13/site-packages (from modal) (0.10.8.20240310)\n",
      "Requirement already satisfied: watchfiles in ./myenv/lib/python3.13/site-packages (from modal) (1.0.4)\n",
      "Requirement already satisfied: typing_extensions~=4.6 in ./myenv/lib/python3.13/site-packages (from modal) (4.12.2)\n",
      "Requirement already satisfied: h2<5,>=3.1.0 in ./myenv/lib/python3.13/site-packages (from grpclib==0.4.7->modal) (4.2.0)\n",
      "Requirement already satisfied: multidict in ./myenv/lib/python3.13/site-packages (from grpclib==0.4.7->modal) (6.2.0)\n",
      "Requirement already satisfied: markdown-it-py>=2.2.0 in ./myenv/lib/python3.13/site-packages (from rich>=12.0.0->modal) (3.0.0)\n",
      "Requirement already satisfied: pygments<3.0.0,>=2.13.0 in ./myenv/lib/python3.13/site-packages (from rich>=12.0.0->modal) (2.19.1)\n",
      "Requirement already satisfied: sigtools>=4.0.1 in ./myenv/lib/python3.13/site-packages (from synchronicity~=0.9.10->modal) (4.0.1)\n",
      "Requirement already satisfied: shellingham>=1.3.0 in ./myenv/lib/python3.13/site-packages (from typer>=0.9->modal) (1.5.4)\n",
      "Requirement already satisfied: aiohappyeyeballs>=2.3.0 in ./myenv/lib/python3.13/site-packages (from aiohttp->modal) (2.6.1)\n",
      "Requirement already satisfied: aiosignal>=1.1.2 in ./myenv/lib/python3.13/site-packages (from aiohttp->modal) (1.3.2)\n",
      "Requirement already satisfied: attrs>=17.3.0 in ./myenv/lib/python3.13/site-packages (from aiohttp->modal) (25.3.0)\n",
      "Requirement already satisfied: frozenlist>=1.1.1 in ./myenv/lib/python3.13/site-packages (from aiohttp->modal) (1.5.0)\n",
      "Requirement already satisfied: propcache>=0.2.0 in ./myenv/lib/python3.13/site-packages (from aiohttp->modal) (0.3.0)\n",
      "Requirement already satisfied: yarl<2.0,>=1.17.0 in ./myenv/lib/python3.13/site-packages (from aiohttp->modal) (1.18.3)\n",
      "Requirement already satisfied: starlette<0.47.0,>=0.40.0 in ./myenv/lib/python3.13/site-packages (from fastapi->modal) (0.46.1)\n",
      "Requirement already satisfied: pydantic!=1.8,!=1.8.1,!=2.0.0,!=2.0.1,!=2.1.0,<3.0.0,>=1.7.4 in ./myenv/lib/python3.13/site-packages (from fastapi->modal) (2.10.6)\n",
      "Requirement already satisfied: anyio>=3.0.0 in ./myenv/lib/python3.13/site-packages (from watchfiles->modal) (4.9.0)\n",
      "Requirement already satisfied: idna>=2.8 in ./myenv/lib/python3.13/site-packages (from anyio>=3.0.0->watchfiles->modal) (3.10)\n",
      "Requirement already satisfied: sniffio>=1.1 in ./myenv/lib/python3.13/site-packages (from anyio>=3.0.0->watchfiles->modal) (1.3.1)\n",
      "Requirement already satisfied: hyperframe<7,>=6.1 in ./myenv/lib/python3.13/site-packages (from h2<5,>=3.1.0->grpclib==0.4.7->modal) (6.1.0)\n",
      "Requirement already satisfied: hpack<5,>=4.1 in ./myenv/lib/python3.13/site-packages (from h2<5,>=3.1.0->grpclib==0.4.7->modal) (4.1.0)\n",
      "Requirement already satisfied: mdurl~=0.1 in ./myenv/lib/python3.13/site-packages (from markdown-it-py>=2.2.0->rich>=12.0.0->modal) (0.1.2)\n",
      "Requirement already satisfied: annotated-types>=0.6.0 in ./myenv/lib/python3.13/site-packages (from pydantic!=1.8,!=1.8.1,!=2.0.0,!=2.0.1,!=2.1.0,<3.0.0,>=1.7.4->fastapi->modal) (0.7.0)\n",
      "Requirement already satisfied: pydantic-core==2.27.2 in ./myenv/lib/python3.13/site-packages (from pydantic!=1.8,!=1.8.1,!=2.0.0,!=2.0.1,!=2.1.0,<3.0.0,>=1.7.4->fastapi->modal) (2.27.2)\n"
     ]
    }
   ],
   "source": [
    "!pip install modal"
   ]
  },
  {
   "cell_type": "code",
   "execution_count": 18,
   "id": "b2beb451-812c-4051-8861-d3a382559acd",
   "metadata": {},
   "outputs": [
    {
     "name": "stdout",
     "output_type": "stream",
     "text": [
      "Collecting modal\n",
      "  Using cached modal-0.73.116-py3-none-any.whl.metadata (2.5 kB)\n",
      "Collecting aiohttp (from modal)\n",
      "  Using cached aiohttp-3.11.14-cp313-cp313-macosx_11_0_arm64.whl.metadata (7.7 kB)\n",
      "Requirement already satisfied: certifi in /Users/jasmine.frantz/.local/pipx/venvs/notebook/lib/python3.13/site-packages (from modal) (2025.1.31)\n",
      "Collecting click>=8.1.0 (from modal)\n",
      "  Using cached click-8.1.8-py3-none-any.whl.metadata (2.3 kB)\n",
      "Collecting fastapi (from modal)\n",
      "  Using cached fastapi-0.115.11-py3-none-any.whl.metadata (27 kB)\n",
      "Collecting grpclib==0.4.7 (from modal)\n",
      "  Using cached grpclib-0.4.7-py3-none-any.whl\n",
      "Collecting protobuf!=4.24.0,<6.0,>=3.19 (from modal)\n",
      "  Using cached protobuf-5.29.4-cp38-abi3-macosx_10_9_universal2.whl.metadata (592 bytes)\n",
      "Collecting rich>=12.0.0 (from modal)\n",
      "  Using cached rich-13.9.4-py3-none-any.whl.metadata (18 kB)\n",
      "Collecting synchronicity~=0.9.10 (from modal)\n",
      "  Using cached synchronicity-0.9.11-py3-none-any.whl.metadata (13 kB)\n",
      "Collecting toml (from modal)\n",
      "  Using cached toml-0.10.2-py2.py3-none-any.whl.metadata (7.1 kB)\n",
      "Collecting typer>=0.9 (from modal)\n",
      "  Using cached typer-0.15.2-py3-none-any.whl.metadata (15 kB)\n",
      "Collecting types-certifi (from modal)\n",
      "  Using cached types_certifi-2021.10.8.3-py3-none-any.whl.metadata (1.4 kB)\n",
      "Collecting types-toml (from modal)\n",
      "  Using cached types_toml-0.10.8.20240310-py3-none-any.whl.metadata (1.5 kB)\n",
      "Collecting watchfiles (from modal)\n",
      "  Using cached watchfiles-1.0.4-cp313-cp313-macosx_11_0_arm64.whl.metadata (4.9 kB)\n",
      "Requirement already satisfied: typing_extensions~=4.6 in /Users/jasmine.frantz/.local/pipx/venvs/notebook/lib/python3.13/site-packages (from modal) (4.12.2)\n",
      "Collecting h2<5,>=3.1.0 (from grpclib==0.4.7->modal)\n",
      "  Using cached h2-4.2.0-py3-none-any.whl.metadata (5.1 kB)\n",
      "Collecting multidict (from grpclib==0.4.7->modal)\n",
      "  Using cached multidict-6.2.0-cp313-cp313-macosx_11_0_arm64.whl.metadata (4.9 kB)\n",
      "Collecting markdown-it-py>=2.2.0 (from rich>=12.0.0->modal)\n",
      "  Using cached markdown_it_py-3.0.0-py3-none-any.whl.metadata (6.9 kB)\n",
      "Requirement already satisfied: pygments<3.0.0,>=2.13.0 in /Users/jasmine.frantz/.local/pipx/venvs/notebook/lib/python3.13/site-packages (from rich>=12.0.0->modal) (2.19.1)\n",
      "Collecting sigtools>=4.0.1 (from synchronicity~=0.9.10->modal)\n",
      "  Using cached sigtools-4.0.1-py2.py3-none-any.whl.metadata (2.4 kB)\n",
      "Collecting shellingham>=1.3.0 (from typer>=0.9->modal)\n",
      "  Using cached shellingham-1.5.4-py2.py3-none-any.whl.metadata (3.5 kB)\n",
      "Collecting aiohappyeyeballs>=2.3.0 (from aiohttp->modal)\n",
      "  Using cached aiohappyeyeballs-2.6.1-py3-none-any.whl.metadata (5.9 kB)\n",
      "Collecting aiosignal>=1.1.2 (from aiohttp->modal)\n",
      "  Using cached aiosignal-1.3.2-py2.py3-none-any.whl.metadata (3.8 kB)\n",
      "Requirement already satisfied: attrs>=17.3.0 in /Users/jasmine.frantz/.local/pipx/venvs/notebook/lib/python3.13/site-packages (from aiohttp->modal) (25.1.0)\n",
      "Collecting frozenlist>=1.1.1 (from aiohttp->modal)\n",
      "  Using cached frozenlist-1.5.0-cp313-cp313-macosx_11_0_arm64.whl.metadata (13 kB)\n",
      "Collecting propcache>=0.2.0 (from aiohttp->modal)\n",
      "  Using cached propcache-0.3.0-cp313-cp313-macosx_11_0_arm64.whl.metadata (10 kB)\n",
      "Collecting yarl<2.0,>=1.17.0 (from aiohttp->modal)\n",
      "  Using cached yarl-1.18.3-cp313-cp313-macosx_11_0_arm64.whl.metadata (69 kB)\n",
      "Collecting starlette<0.47.0,>=0.40.0 (from fastapi->modal)\n",
      "  Using cached starlette-0.46.1-py3-none-any.whl.metadata (6.2 kB)\n",
      "Collecting pydantic!=1.8,!=1.8.1,!=2.0.0,!=2.0.1,!=2.1.0,<3.0.0,>=1.7.4 (from fastapi->modal)\n",
      "  Using cached pydantic-2.10.6-py3-none-any.whl.metadata (30 kB)\n",
      "Requirement already satisfied: anyio>=3.0.0 in /Users/jasmine.frantz/.local/pipx/venvs/notebook/lib/python3.13/site-packages (from watchfiles->modal) (4.8.0)\n",
      "Requirement already satisfied: idna>=2.8 in /Users/jasmine.frantz/.local/pipx/venvs/notebook/lib/python3.13/site-packages (from anyio>=3.0.0->watchfiles->modal) (3.10)\n",
      "Requirement already satisfied: sniffio>=1.1 in /Users/jasmine.frantz/.local/pipx/venvs/notebook/lib/python3.13/site-packages (from anyio>=3.0.0->watchfiles->modal) (1.3.1)\n",
      "Collecting hyperframe<7,>=6.1 (from h2<5,>=3.1.0->grpclib==0.4.7->modal)\n",
      "  Using cached hyperframe-6.1.0-py3-none-any.whl.metadata (4.3 kB)\n",
      "Collecting hpack<5,>=4.1 (from h2<5,>=3.1.0->grpclib==0.4.7->modal)\n",
      "  Using cached hpack-4.1.0-py3-none-any.whl.metadata (4.6 kB)\n",
      "Collecting mdurl~=0.1 (from markdown-it-py>=2.2.0->rich>=12.0.0->modal)\n",
      "  Using cached mdurl-0.1.2-py3-none-any.whl.metadata (1.6 kB)\n",
      "Collecting annotated-types>=0.6.0 (from pydantic!=1.8,!=1.8.1,!=2.0.0,!=2.0.1,!=2.1.0,<3.0.0,>=1.7.4->fastapi->modal)\n",
      "  Using cached annotated_types-0.7.0-py3-none-any.whl.metadata (15 kB)\n",
      "Collecting pydantic-core==2.27.2 (from pydantic!=1.8,!=1.8.1,!=2.0.0,!=2.0.1,!=2.1.0,<3.0.0,>=1.7.4->fastapi->modal)\n",
      "  Using cached pydantic_core-2.27.2-cp313-cp313-macosx_11_0_arm64.whl.metadata (6.6 kB)\n",
      "Using cached modal-0.73.116-py3-none-any.whl (539 kB)\n",
      "Using cached click-8.1.8-py3-none-any.whl (98 kB)\n",
      "Using cached protobuf-5.29.4-cp38-abi3-macosx_10_9_universal2.whl (417 kB)\n",
      "Using cached rich-13.9.4-py3-none-any.whl (242 kB)\n",
      "Using cached synchronicity-0.9.11-py3-none-any.whl (36 kB)\n",
      "Using cached typer-0.15.2-py3-none-any.whl (45 kB)\n",
      "Using cached aiohttp-3.11.14-cp313-cp313-macosx_11_0_arm64.whl (453 kB)\n",
      "Using cached fastapi-0.115.11-py3-none-any.whl (94 kB)\n",
      "Using cached toml-0.10.2-py2.py3-none-any.whl (16 kB)\n",
      "Using cached types_certifi-2021.10.8.3-py3-none-any.whl (2.1 kB)\n",
      "Using cached types_toml-0.10.8.20240310-py3-none-any.whl (4.8 kB)\n",
      "Using cached watchfiles-1.0.4-cp313-cp313-macosx_11_0_arm64.whl (381 kB)\n",
      "Using cached aiohappyeyeballs-2.6.1-py3-none-any.whl (15 kB)\n",
      "Using cached aiosignal-1.3.2-py2.py3-none-any.whl (7.6 kB)\n",
      "Using cached frozenlist-1.5.0-cp313-cp313-macosx_11_0_arm64.whl (50 kB)\n",
      "Using cached h2-4.2.0-py3-none-any.whl (60 kB)\n",
      "Using cached markdown_it_py-3.0.0-py3-none-any.whl (87 kB)\n",
      "Using cached multidict-6.2.0-cp313-cp313-macosx_11_0_arm64.whl (29 kB)\n",
      "Using cached propcache-0.3.0-cp313-cp313-macosx_11_0_arm64.whl (44 kB)\n",
      "Using cached pydantic-2.10.6-py3-none-any.whl (431 kB)\n",
      "Using cached pydantic_core-2.27.2-cp313-cp313-macosx_11_0_arm64.whl (1.8 MB)\n",
      "Using cached shellingham-1.5.4-py2.py3-none-any.whl (9.8 kB)\n",
      "Using cached sigtools-4.0.1-py2.py3-none-any.whl (76 kB)\n",
      "Using cached starlette-0.46.1-py3-none-any.whl (71 kB)\n",
      "Using cached yarl-1.18.3-cp313-cp313-macosx_11_0_arm64.whl (91 kB)\n",
      "Using cached annotated_types-0.7.0-py3-none-any.whl (13 kB)\n",
      "Using cached hpack-4.1.0-py3-none-any.whl (34 kB)\n",
      "Using cached hyperframe-6.1.0-py3-none-any.whl (13 kB)\n",
      "Using cached mdurl-0.1.2-py3-none-any.whl (10.0 kB)\n",
      "Installing collected packages: types-certifi, types-toml, toml, sigtools, shellingham, pydantic-core, protobuf, propcache, multidict, mdurl, hyperframe, hpack, frozenlist, click, annotated-types, aiohappyeyeballs, yarl, watchfiles, synchronicity, starlette, pydantic, markdown-it-py, h2, aiosignal, rich, grpclib, fastapi, aiohttp, typer, modal\n",
      "Successfully installed aiohappyeyeballs-2.6.1 aiohttp-3.11.14 aiosignal-1.3.2 annotated-types-0.7.0 click-8.1.8 fastapi-0.115.11 frozenlist-1.5.0 grpclib-0.4.7 h2-4.2.0 hpack-4.1.0 hyperframe-6.1.0 markdown-it-py-3.0.0 mdurl-0.1.2 modal-0.73.116 multidict-6.2.0 propcache-0.3.0 protobuf-5.29.4 pydantic-2.10.6 pydantic-core-2.27.2 rich-13.9.4 shellingham-1.5.4 sigtools-4.0.1 starlette-0.46.1 synchronicity-0.9.11 toml-0.10.2 typer-0.15.2 types-certifi-2021.10.8.3 types-toml-0.10.8.20240310 watchfiles-1.0.4 yarl-1.18.3\n"
     ]
    }
   ],
   "source": [
    "import sys\n",
    "!{sys.executable} -m pip install modal\n"
   ]
  },
  {
   "cell_type": "code",
   "execution_count": 20,
   "id": "eb4007e7-06d9-4abb-8da1-64913d3bcf7c",
   "metadata": {},
   "outputs": [],
   "source": [
    "import modal\n",
    "from transformers import AutoTokenizer, AutoModelForCausalLM\n",
    "\n",
    "# Create a Modal image using Debian slim and install required dependencies\n",
    "# Original:\n",
    "# image = modal.Image.debian_slim().pip_install(\"fastapi[standard]\", \"transformers\")\n",
    "\n",
    "# Updated:\n",
    "image = modal.Image.debian_slim().pip_install(\n",
    "    \"fastapi[standard]\",\n",
    "    \"transformers\",\n",
    "    \"torch>=2.0.0\",\n",
    "    \"accelerate\",\n",
    "    \"safetensors\"  # Optional but recommended for faster model loading\n",
    ")\n",
    "\n",
    "# Add local Python modules explicitly to avoid automounting warning\n",
    "image_with_source = image.add_local_python_source(\"_remote_module_non_scriptable\")\n",
    "\n",
    "# Initialize a Modal App with the custom image\n",
    "# Original:\n",
    "# app = modal.App(name=\"example-lifecycle-web\", image=image)\n",
    "\n",
    "# Updated:\n",
    "app = modal.App(name=\"example-lifecycle-web\", image=image_with_source)\n",
    "\n",
    "# Define a stub class for your model\n",
    "class MyModel:\n",
    "    def __init__(self):\n",
    "        # Load the tokenizer and model once during initialization\n",
    "        self.tokenizer = AutoTokenizer.from_pretrained(\"facebook/opt-125m\")\n",
    "        self.model = AutoModelForCausalLM.from_pretrained(\"facebook/opt-125m\", device_map=\"auto\")\n",
    "    \n",
    "    def run_inference(self, input_text: str) -> str:\n",
    "        # Perform inference and return the result\n",
    "        input_ids = self.tokenizer(input_text, return_tensors=\"pt\")\n",
    "        outputs = self.model.generate(**input_ids)\n",
    "        return self.tokenizer.batch_decode(outputs, skip_special_tokens=True)[0]\n",
    "\n",
    "# Define the web endpoint to accept requests and run inference\n",
    "@app.function()\n",
    "# Original:\n",
    "# @modal.web_endpoint()  # Expose this function via an HTTP endpoint\n",
    "\n",
    "# Updated:\n",
    "@modal.fastapi_endpoint()  # Updated from web_endpoint to fastapi_endpoint\n",
    "def hello(input_text: str) -> str:\n",
    "    # Initialize the model here, it will persist between calls\n",
    "    if not hasattr(hello, \"model_instance\"): # Only initialize on first call\n",
    "        hello.model_instance = MyModel()\n",
    "    result = hello.model_instance.run_inference(input_text)  # Run inference\n",
    "    return result\n",
    "\n",
    "# To run the web app\n",
    "if __name__ == \"__main__\":\n",
    "    app.run()"
   ]
  },
  {
   "cell_type": "code",
   "execution_count": null,
   "id": "16d4e3ba-a3f0-41bf-85d9-a208b1cfa417",
   "metadata": {},
   "outputs": [],
   "source": []
  }
 ],
 "metadata": {
  "kernelspec": {
   "display_name": "Python 3 (ipykernel)",
   "language": "python",
   "name": "python3"
  },
  "language_info": {
   "codemirror_mode": {
    "name": "ipython",
    "version": 3
   },
   "file_extension": ".py",
   "mimetype": "text/x-python",
   "name": "python",
   "nbconvert_exporter": "python",
   "pygments_lexer": "ipython3",
   "version": "3.13.2"
  }
 },
 "nbformat": 4,
 "nbformat_minor": 5
}
